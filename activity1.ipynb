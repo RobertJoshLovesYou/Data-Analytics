{
 "cells": [
  {
   "cell_type": "markdown",
   "id": "02838617-4219-4671-8601-0b4d7992cc96",
   "metadata": {},
   "source": [
    "<h1> ACTIVITY - PALMER PENGUINS DATA ANALYTICS PROJECT </h1> "
   ]
  },
  {
   "cell_type": "code",
   "execution_count": 4,
   "id": "d84410d5-9a6c-4e6a-bc92-f12f44425cea",
   "metadata": {},
   "outputs": [],
   "source": [
    "import numpy as np\n",
    "import pandas as pd"
   ]
  },
  {
   "cell_type": "code",
   "execution_count": 5,
   "id": "c4eec160-2c51-4d25-b289-75e991e07a40",
   "metadata": {},
   "outputs": [],
   "source": [
    "bird = pd.read_csv('datasets\\\\penguin.csv')"
   ]
  },
  {
   "cell_type": "code",
   "execution_count": 6,
   "id": "e33c6c64-134c-4d93-b25d-164b53a84a12",
   "metadata": {},
   "outputs": [
    {
     "data": {
      "text/html": [
       "<div>\n",
       "<style scoped>\n",
       "    .dataframe tbody tr th:only-of-type {\n",
       "        vertical-align: middle;\n",
       "    }\n",
       "\n",
       "    .dataframe tbody tr th {\n",
       "        vertical-align: top;\n",
       "    }\n",
       "\n",
       "    .dataframe thead th {\n",
       "        text-align: right;\n",
       "    }\n",
       "</style>\n",
       "<table border=\"1\" class=\"dataframe\">\n",
       "  <thead>\n",
       "    <tr style=\"text-align: right;\">\n",
       "      <th></th>\n",
       "      <th>species</th>\n",
       "      <th>island</th>\n",
       "      <th>bill_length_mm</th>\n",
       "      <th>bill_depth_mm</th>\n",
       "      <th>flipper_length_mm</th>\n",
       "      <th>body_mass_g</th>\n",
       "      <th>sex</th>\n",
       "      <th>year</th>\n",
       "    </tr>\n",
       "  </thead>\n",
       "  <tbody>\n",
       "    <tr>\n",
       "      <th>0</th>\n",
       "      <td>Adelie</td>\n",
       "      <td>Torgersen</td>\n",
       "      <td>39.1</td>\n",
       "      <td>18.7</td>\n",
       "      <td>181.0</td>\n",
       "      <td>3750.0</td>\n",
       "      <td>male</td>\n",
       "      <td>2007</td>\n",
       "    </tr>\n",
       "    <tr>\n",
       "      <th>1</th>\n",
       "      <td>Adelie</td>\n",
       "      <td>Torgersen</td>\n",
       "      <td>39.5</td>\n",
       "      <td>17.4</td>\n",
       "      <td>186.0</td>\n",
       "      <td>3800.0</td>\n",
       "      <td>female</td>\n",
       "      <td>2007</td>\n",
       "    </tr>\n",
       "    <tr>\n",
       "      <th>2</th>\n",
       "      <td>Adelie</td>\n",
       "      <td>Torgersen</td>\n",
       "      <td>40.3</td>\n",
       "      <td>18.0</td>\n",
       "      <td>195.0</td>\n",
       "      <td>3250.0</td>\n",
       "      <td>female</td>\n",
       "      <td>2007</td>\n",
       "    </tr>\n",
       "    <tr>\n",
       "      <th>3</th>\n",
       "      <td>Adelie</td>\n",
       "      <td>Torgersen</td>\n",
       "      <td>NaN</td>\n",
       "      <td>NaN</td>\n",
       "      <td>NaN</td>\n",
       "      <td>NaN</td>\n",
       "      <td>NaN</td>\n",
       "      <td>2007</td>\n",
       "    </tr>\n",
       "    <tr>\n",
       "      <th>4</th>\n",
       "      <td>Adelie</td>\n",
       "      <td>Torgersen</td>\n",
       "      <td>36.7</td>\n",
       "      <td>19.3</td>\n",
       "      <td>193.0</td>\n",
       "      <td>3450.0</td>\n",
       "      <td>female</td>\n",
       "      <td>2007</td>\n",
       "    </tr>\n",
       "    <tr>\n",
       "      <th>...</th>\n",
       "      <td>...</td>\n",
       "      <td>...</td>\n",
       "      <td>...</td>\n",
       "      <td>...</td>\n",
       "      <td>...</td>\n",
       "      <td>...</td>\n",
       "      <td>...</td>\n",
       "      <td>...</td>\n",
       "    </tr>\n",
       "    <tr>\n",
       "      <th>339</th>\n",
       "      <td>Chinstrap</td>\n",
       "      <td>Dream</td>\n",
       "      <td>55.8</td>\n",
       "      <td>19.8</td>\n",
       "      <td>207.0</td>\n",
       "      <td>4000.0</td>\n",
       "      <td>male</td>\n",
       "      <td>2009</td>\n",
       "    </tr>\n",
       "    <tr>\n",
       "      <th>340</th>\n",
       "      <td>Chinstrap</td>\n",
       "      <td>Dream</td>\n",
       "      <td>43.5</td>\n",
       "      <td>18.1</td>\n",
       "      <td>202.0</td>\n",
       "      <td>3400.0</td>\n",
       "      <td>female</td>\n",
       "      <td>2009</td>\n",
       "    </tr>\n",
       "    <tr>\n",
       "      <th>341</th>\n",
       "      <td>Chinstrap</td>\n",
       "      <td>Dream</td>\n",
       "      <td>49.6</td>\n",
       "      <td>18.2</td>\n",
       "      <td>193.0</td>\n",
       "      <td>3775.0</td>\n",
       "      <td>male</td>\n",
       "      <td>2009</td>\n",
       "    </tr>\n",
       "    <tr>\n",
       "      <th>342</th>\n",
       "      <td>Chinstrap</td>\n",
       "      <td>Dream</td>\n",
       "      <td>50.8</td>\n",
       "      <td>19.0</td>\n",
       "      <td>210.0</td>\n",
       "      <td>4100.0</td>\n",
       "      <td>male</td>\n",
       "      <td>2009</td>\n",
       "    </tr>\n",
       "    <tr>\n",
       "      <th>343</th>\n",
       "      <td>Chinstrap</td>\n",
       "      <td>Dream</td>\n",
       "      <td>50.2</td>\n",
       "      <td>18.7</td>\n",
       "      <td>198.0</td>\n",
       "      <td>3775.0</td>\n",
       "      <td>female</td>\n",
       "      <td>2009</td>\n",
       "    </tr>\n",
       "  </tbody>\n",
       "</table>\n",
       "<p>344 rows × 8 columns</p>\n",
       "</div>"
      ],
      "text/plain": [
       "       species     island  bill_length_mm  bill_depth_mm  flipper_length_mm  \\\n",
       "0       Adelie  Torgersen            39.1           18.7              181.0   \n",
       "1       Adelie  Torgersen            39.5           17.4              186.0   \n",
       "2       Adelie  Torgersen            40.3           18.0              195.0   \n",
       "3       Adelie  Torgersen             NaN            NaN                NaN   \n",
       "4       Adelie  Torgersen            36.7           19.3              193.0   \n",
       "..         ...        ...             ...            ...                ...   \n",
       "339  Chinstrap      Dream            55.8           19.8              207.0   \n",
       "340  Chinstrap      Dream            43.5           18.1              202.0   \n",
       "341  Chinstrap      Dream            49.6           18.2              193.0   \n",
       "342  Chinstrap      Dream            50.8           19.0              210.0   \n",
       "343  Chinstrap      Dream            50.2           18.7              198.0   \n",
       "\n",
       "     body_mass_g     sex  year  \n",
       "0         3750.0    male  2007  \n",
       "1         3800.0  female  2007  \n",
       "2         3250.0  female  2007  \n",
       "3            NaN     NaN  2007  \n",
       "4         3450.0  female  2007  \n",
       "..           ...     ...   ...  \n",
       "339       4000.0    male  2009  \n",
       "340       3400.0  female  2009  \n",
       "341       3775.0    male  2009  \n",
       "342       4100.0    male  2009  \n",
       "343       3775.0  female  2009  \n",
       "\n",
       "[344 rows x 8 columns]"
      ]
     },
     "execution_count": 6,
     "metadata": {},
     "output_type": "execute_result"
    }
   ],
   "source": [
    "bird"
   ]
  },
  {
   "cell_type": "markdown",
   "id": "f63316b4-ea31-4fd5-85b5-48bf536fac3c",
   "metadata": {},
   "source": [
    "<h1> Descriptive Analytics </h1>"
   ]
  },
  {
   "cell_type": "code",
   "execution_count": 7,
   "id": "97d97c99-2bfe-4f5a-866a-c061fcf285e1",
   "metadata": {},
   "outputs": [
    {
     "data": {
      "text/html": [
       "<div>\n",
       "<style scoped>\n",
       "    .dataframe tbody tr th:only-of-type {\n",
       "        vertical-align: middle;\n",
       "    }\n",
       "\n",
       "    .dataframe tbody tr th {\n",
       "        vertical-align: top;\n",
       "    }\n",
       "\n",
       "    .dataframe thead th {\n",
       "        text-align: right;\n",
       "    }\n",
       "</style>\n",
       "<table border=\"1\" class=\"dataframe\">\n",
       "  <thead>\n",
       "    <tr style=\"text-align: right;\">\n",
       "      <th></th>\n",
       "      <th>bill_length_mm</th>\n",
       "      <th>bill_depth_mm</th>\n",
       "      <th>flipper_length_mm</th>\n",
       "      <th>body_mass_g</th>\n",
       "      <th>year</th>\n",
       "    </tr>\n",
       "  </thead>\n",
       "  <tbody>\n",
       "    <tr>\n",
       "      <th>count</th>\n",
       "      <td>342.000000</td>\n",
       "      <td>342.000000</td>\n",
       "      <td>342.000000</td>\n",
       "      <td>342.000000</td>\n",
       "      <td>344.000000</td>\n",
       "    </tr>\n",
       "    <tr>\n",
       "      <th>mean</th>\n",
       "      <td>43.921930</td>\n",
       "      <td>17.151170</td>\n",
       "      <td>200.915205</td>\n",
       "      <td>4201.754386</td>\n",
       "      <td>2008.029070</td>\n",
       "    </tr>\n",
       "    <tr>\n",
       "      <th>std</th>\n",
       "      <td>5.459584</td>\n",
       "      <td>1.974793</td>\n",
       "      <td>14.061714</td>\n",
       "      <td>801.954536</td>\n",
       "      <td>0.818356</td>\n",
       "    </tr>\n",
       "    <tr>\n",
       "      <th>min</th>\n",
       "      <td>32.100000</td>\n",
       "      <td>13.100000</td>\n",
       "      <td>172.000000</td>\n",
       "      <td>2700.000000</td>\n",
       "      <td>2007.000000</td>\n",
       "    </tr>\n",
       "    <tr>\n",
       "      <th>25%</th>\n",
       "      <td>39.225000</td>\n",
       "      <td>15.600000</td>\n",
       "      <td>190.000000</td>\n",
       "      <td>3550.000000</td>\n",
       "      <td>2007.000000</td>\n",
       "    </tr>\n",
       "    <tr>\n",
       "      <th>50%</th>\n",
       "      <td>44.450000</td>\n",
       "      <td>17.300000</td>\n",
       "      <td>197.000000</td>\n",
       "      <td>4050.000000</td>\n",
       "      <td>2008.000000</td>\n",
       "    </tr>\n",
       "    <tr>\n",
       "      <th>75%</th>\n",
       "      <td>48.500000</td>\n",
       "      <td>18.700000</td>\n",
       "      <td>213.000000</td>\n",
       "      <td>4750.000000</td>\n",
       "      <td>2009.000000</td>\n",
       "    </tr>\n",
       "    <tr>\n",
       "      <th>max</th>\n",
       "      <td>59.600000</td>\n",
       "      <td>21.500000</td>\n",
       "      <td>231.000000</td>\n",
       "      <td>6300.000000</td>\n",
       "      <td>2009.000000</td>\n",
       "    </tr>\n",
       "  </tbody>\n",
       "</table>\n",
       "</div>"
      ],
      "text/plain": [
       "       bill_length_mm  bill_depth_mm  flipper_length_mm  body_mass_g  \\\n",
       "count      342.000000     342.000000         342.000000   342.000000   \n",
       "mean        43.921930      17.151170         200.915205  4201.754386   \n",
       "std          5.459584       1.974793          14.061714   801.954536   \n",
       "min         32.100000      13.100000         172.000000  2700.000000   \n",
       "25%         39.225000      15.600000         190.000000  3550.000000   \n",
       "50%         44.450000      17.300000         197.000000  4050.000000   \n",
       "75%         48.500000      18.700000         213.000000  4750.000000   \n",
       "max         59.600000      21.500000         231.000000  6300.000000   \n",
       "\n",
       "              year  \n",
       "count   344.000000  \n",
       "mean   2008.029070  \n",
       "std       0.818356  \n",
       "min    2007.000000  \n",
       "25%    2007.000000  \n",
       "50%    2008.000000  \n",
       "75%    2009.000000  \n",
       "max    2009.000000  "
      ]
     },
     "execution_count": 7,
     "metadata": {},
     "output_type": "execute_result"
    }
   ],
   "source": [
    "bird.describe()"
   ]
  },
  {
   "cell_type": "code",
   "execution_count": 8,
   "id": "4d4e048a-3737-4c67-aa68-3e4d2337042e",
   "metadata": {},
   "outputs": [
    {
     "data": {
      "text/html": [
       "<div>\n",
       "<style scoped>\n",
       "    .dataframe tbody tr th:only-of-type {\n",
       "        vertical-align: middle;\n",
       "    }\n",
       "\n",
       "    .dataframe tbody tr th {\n",
       "        vertical-align: top;\n",
       "    }\n",
       "\n",
       "    .dataframe thead th {\n",
       "        text-align: right;\n",
       "    }\n",
       "</style>\n",
       "<table border=\"1\" class=\"dataframe\">\n",
       "  <thead>\n",
       "    <tr style=\"text-align: right;\">\n",
       "      <th></th>\n",
       "      <th>count</th>\n",
       "      <th>mean</th>\n",
       "      <th>std</th>\n",
       "      <th>min</th>\n",
       "      <th>25%</th>\n",
       "      <th>50%</th>\n",
       "      <th>75%</th>\n",
       "      <th>max</th>\n",
       "    </tr>\n",
       "  </thead>\n",
       "  <tbody>\n",
       "    <tr>\n",
       "      <th>bill_length_mm</th>\n",
       "      <td>342.0</td>\n",
       "      <td>43.921930</td>\n",
       "      <td>5.459584</td>\n",
       "      <td>32.1</td>\n",
       "      <td>39.225</td>\n",
       "      <td>44.45</td>\n",
       "      <td>48.5</td>\n",
       "      <td>59.6</td>\n",
       "    </tr>\n",
       "    <tr>\n",
       "      <th>bill_depth_mm</th>\n",
       "      <td>342.0</td>\n",
       "      <td>17.151170</td>\n",
       "      <td>1.974793</td>\n",
       "      <td>13.1</td>\n",
       "      <td>15.600</td>\n",
       "      <td>17.30</td>\n",
       "      <td>18.7</td>\n",
       "      <td>21.5</td>\n",
       "    </tr>\n",
       "    <tr>\n",
       "      <th>flipper_length_mm</th>\n",
       "      <td>342.0</td>\n",
       "      <td>200.915205</td>\n",
       "      <td>14.061714</td>\n",
       "      <td>172.0</td>\n",
       "      <td>190.000</td>\n",
       "      <td>197.00</td>\n",
       "      <td>213.0</td>\n",
       "      <td>231.0</td>\n",
       "    </tr>\n",
       "    <tr>\n",
       "      <th>body_mass_g</th>\n",
       "      <td>342.0</td>\n",
       "      <td>4201.754386</td>\n",
       "      <td>801.954536</td>\n",
       "      <td>2700.0</td>\n",
       "      <td>3550.000</td>\n",
       "      <td>4050.00</td>\n",
       "      <td>4750.0</td>\n",
       "      <td>6300.0</td>\n",
       "    </tr>\n",
       "    <tr>\n",
       "      <th>year</th>\n",
       "      <td>344.0</td>\n",
       "      <td>2008.029070</td>\n",
       "      <td>0.818356</td>\n",
       "      <td>2007.0</td>\n",
       "      <td>2007.000</td>\n",
       "      <td>2008.00</td>\n",
       "      <td>2009.0</td>\n",
       "      <td>2009.0</td>\n",
       "    </tr>\n",
       "  </tbody>\n",
       "</table>\n",
       "</div>"
      ],
      "text/plain": [
       "                   count         mean         std     min       25%      50%  \\\n",
       "bill_length_mm     342.0    43.921930    5.459584    32.1    39.225    44.45   \n",
       "bill_depth_mm      342.0    17.151170    1.974793    13.1    15.600    17.30   \n",
       "flipper_length_mm  342.0   200.915205   14.061714   172.0   190.000   197.00   \n",
       "body_mass_g        342.0  4201.754386  801.954536  2700.0  3550.000  4050.00   \n",
       "year               344.0  2008.029070    0.818356  2007.0  2007.000  2008.00   \n",
       "\n",
       "                      75%     max  \n",
       "bill_length_mm       48.5    59.6  \n",
       "bill_depth_mm        18.7    21.5  \n",
       "flipper_length_mm   213.0   231.0  \n",
       "body_mass_g        4750.0  6300.0  \n",
       "year               2009.0  2009.0  "
      ]
     },
     "execution_count": 8,
     "metadata": {},
     "output_type": "execute_result"
    }
   ],
   "source": [
    "bird.describe().T"
   ]
  },
  {
   "cell_type": "markdown",
   "id": "7970515f-1137-4e56-ada7-f8d8b9691571",
   "metadata": {},
   "source": [
    "<h1>Filtering a Column /Data</h1>"
   ]
  },
  {
   "cell_type": "code",
   "execution_count": 9,
   "id": "50b05262-8615-458d-80f4-1c9051e2f1ea",
   "metadata": {},
   "outputs": [],
   "source": [
    "adelie_df = bird[bird['species'] == \"Adelie\"]"
   ]
  },
  {
   "cell_type": "code",
   "execution_count": 10,
   "id": "46afc19e-d471-4104-93f6-154e340c336e",
   "metadata": {},
   "outputs": [
    {
     "data": {
      "text/plain": [
       "np.float64(3700.662251655629)"
      ]
     },
     "execution_count": 10,
     "metadata": {},
     "output_type": "execute_result"
    }
   ],
   "source": [
    "adelie_df['body_mass_g'].mean()"
   ]
  },
  {
   "cell_type": "code",
   "execution_count": 11,
   "id": "78517659-103e-48c7-a5cc-4ed29278297c",
   "metadata": {},
   "outputs": [
    {
     "data": {
      "text/html": [
       "<div>\n",
       "<style scoped>\n",
       "    .dataframe tbody tr th:only-of-type {\n",
       "        vertical-align: middle;\n",
       "    }\n",
       "\n",
       "    .dataframe tbody tr th {\n",
       "        vertical-align: top;\n",
       "    }\n",
       "\n",
       "    .dataframe thead th {\n",
       "        text-align: right;\n",
       "    }\n",
       "</style>\n",
       "<table border=\"1\" class=\"dataframe\">\n",
       "  <thead>\n",
       "    <tr style=\"text-align: right;\">\n",
       "      <th></th>\n",
       "      <th>species</th>\n",
       "      <th>island</th>\n",
       "      <th>bill_length_mm</th>\n",
       "      <th>bill_depth_mm</th>\n",
       "      <th>flipper_length_mm</th>\n",
       "      <th>body_mass_g</th>\n",
       "      <th>sex</th>\n",
       "      <th>year</th>\n",
       "    </tr>\n",
       "  </thead>\n",
       "  <tbody>\n",
       "    <tr>\n",
       "      <th>0</th>\n",
       "      <td>Adelie</td>\n",
       "      <td>Torgersen</td>\n",
       "      <td>39.1</td>\n",
       "      <td>18.7</td>\n",
       "      <td>181.0</td>\n",
       "      <td>3750.0</td>\n",
       "      <td>male</td>\n",
       "      <td>2007</td>\n",
       "    </tr>\n",
       "    <tr>\n",
       "      <th>1</th>\n",
       "      <td>Adelie</td>\n",
       "      <td>Torgersen</td>\n",
       "      <td>39.5</td>\n",
       "      <td>17.4</td>\n",
       "      <td>186.0</td>\n",
       "      <td>3800.0</td>\n",
       "      <td>female</td>\n",
       "      <td>2007</td>\n",
       "    </tr>\n",
       "    <tr>\n",
       "      <th>2</th>\n",
       "      <td>Adelie</td>\n",
       "      <td>Torgersen</td>\n",
       "      <td>40.3</td>\n",
       "      <td>18.0</td>\n",
       "      <td>195.0</td>\n",
       "      <td>3250.0</td>\n",
       "      <td>female</td>\n",
       "      <td>2007</td>\n",
       "    </tr>\n",
       "    <tr>\n",
       "      <th>3</th>\n",
       "      <td>Adelie</td>\n",
       "      <td>Torgersen</td>\n",
       "      <td>NaN</td>\n",
       "      <td>NaN</td>\n",
       "      <td>NaN</td>\n",
       "      <td>NaN</td>\n",
       "      <td>NaN</td>\n",
       "      <td>2007</td>\n",
       "    </tr>\n",
       "    <tr>\n",
       "      <th>4</th>\n",
       "      <td>Adelie</td>\n",
       "      <td>Torgersen</td>\n",
       "      <td>36.7</td>\n",
       "      <td>19.3</td>\n",
       "      <td>193.0</td>\n",
       "      <td>3450.0</td>\n",
       "      <td>female</td>\n",
       "      <td>2007</td>\n",
       "    </tr>\n",
       "    <tr>\n",
       "      <th>...</th>\n",
       "      <td>...</td>\n",
       "      <td>...</td>\n",
       "      <td>...</td>\n",
       "      <td>...</td>\n",
       "      <td>...</td>\n",
       "      <td>...</td>\n",
       "      <td>...</td>\n",
       "      <td>...</td>\n",
       "    </tr>\n",
       "    <tr>\n",
       "      <th>147</th>\n",
       "      <td>Adelie</td>\n",
       "      <td>Dream</td>\n",
       "      <td>36.6</td>\n",
       "      <td>18.4</td>\n",
       "      <td>184.0</td>\n",
       "      <td>3475.0</td>\n",
       "      <td>female</td>\n",
       "      <td>2009</td>\n",
       "    </tr>\n",
       "    <tr>\n",
       "      <th>148</th>\n",
       "      <td>Adelie</td>\n",
       "      <td>Dream</td>\n",
       "      <td>36.0</td>\n",
       "      <td>17.8</td>\n",
       "      <td>195.0</td>\n",
       "      <td>3450.0</td>\n",
       "      <td>female</td>\n",
       "      <td>2009</td>\n",
       "    </tr>\n",
       "    <tr>\n",
       "      <th>149</th>\n",
       "      <td>Adelie</td>\n",
       "      <td>Dream</td>\n",
       "      <td>37.8</td>\n",
       "      <td>18.1</td>\n",
       "      <td>193.0</td>\n",
       "      <td>3750.0</td>\n",
       "      <td>male</td>\n",
       "      <td>2009</td>\n",
       "    </tr>\n",
       "    <tr>\n",
       "      <th>150</th>\n",
       "      <td>Adelie</td>\n",
       "      <td>Dream</td>\n",
       "      <td>36.0</td>\n",
       "      <td>17.1</td>\n",
       "      <td>187.0</td>\n",
       "      <td>3700.0</td>\n",
       "      <td>female</td>\n",
       "      <td>2009</td>\n",
       "    </tr>\n",
       "    <tr>\n",
       "      <th>151</th>\n",
       "      <td>Adelie</td>\n",
       "      <td>Dream</td>\n",
       "      <td>41.5</td>\n",
       "      <td>18.5</td>\n",
       "      <td>201.0</td>\n",
       "      <td>4000.0</td>\n",
       "      <td>male</td>\n",
       "      <td>2009</td>\n",
       "    </tr>\n",
       "  </tbody>\n",
       "</table>\n",
       "<p>152 rows × 8 columns</p>\n",
       "</div>"
      ],
      "text/plain": [
       "    species     island  bill_length_mm  bill_depth_mm  flipper_length_mm  \\\n",
       "0    Adelie  Torgersen            39.1           18.7              181.0   \n",
       "1    Adelie  Torgersen            39.5           17.4              186.0   \n",
       "2    Adelie  Torgersen            40.3           18.0              195.0   \n",
       "3    Adelie  Torgersen             NaN            NaN                NaN   \n",
       "4    Adelie  Torgersen            36.7           19.3              193.0   \n",
       "..      ...        ...             ...            ...                ...   \n",
       "147  Adelie      Dream            36.6           18.4              184.0   \n",
       "148  Adelie      Dream            36.0           17.8              195.0   \n",
       "149  Adelie      Dream            37.8           18.1              193.0   \n",
       "150  Adelie      Dream            36.0           17.1              187.0   \n",
       "151  Adelie      Dream            41.5           18.5              201.0   \n",
       "\n",
       "     body_mass_g     sex  year  \n",
       "0         3750.0    male  2007  \n",
       "1         3800.0  female  2007  \n",
       "2         3250.0  female  2007  \n",
       "3            NaN     NaN  2007  \n",
       "4         3450.0  female  2007  \n",
       "..           ...     ...   ...  \n",
       "147       3475.0  female  2009  \n",
       "148       3450.0  female  2009  \n",
       "149       3750.0    male  2009  \n",
       "150       3700.0  female  2009  \n",
       "151       4000.0    male  2009  \n",
       "\n",
       "[152 rows x 8 columns]"
      ]
     },
     "execution_count": 11,
     "metadata": {},
     "output_type": "execute_result"
    }
   ],
   "source": [
    "adelie_df"
   ]
  },
  {
   "cell_type": "code",
   "execution_count": 12,
   "id": "0bcef9bf-1fd0-4701-93ed-6ebedd30660a",
   "metadata": {},
   "outputs": [
    {
     "data": {
      "text/plain": [
       "0        male\n",
       "1      female\n",
       "2      female\n",
       "3         NaN\n",
       "4      female\n",
       "        ...  \n",
       "339      male\n",
       "340    female\n",
       "341      male\n",
       "342      male\n",
       "343    female\n",
       "Name: sex, Length: 344, dtype: object"
      ]
     },
     "execution_count": 12,
     "metadata": {},
     "output_type": "execute_result"
    }
   ],
   "source": [
    "bird['sex']"
   ]
  },
  {
   "cell_type": "code",
   "execution_count": 13,
   "id": "102d8be6-0638-4e44-a12e-908a0ef24b38",
   "metadata": {},
   "outputs": [
    {
     "data": {
      "text/plain": [
       "species\n",
       "Adelie       152\n",
       "Gentoo       124\n",
       "Chinstrap     68\n",
       "Name: count, dtype: int64"
      ]
     },
     "execution_count": 13,
     "metadata": {},
     "output_type": "execute_result"
    }
   ],
   "source": [
    "bird['species'].value_counts()"
   ]
  },
  {
   "cell_type": "code",
   "execution_count": 14,
   "id": "78509952-87e2-4eba-a253-9d0f12da2cc0",
   "metadata": {},
   "outputs": [],
   "source": [
    "adelie_dream_df = bird[(bird['species'] == 'Adelie') & (bird['island'] == 'Dream')]"
   ]
  },
  {
   "cell_type": "code",
   "execution_count": 15,
   "id": "d7d4fa80-f8db-487e-87a4-e098cc1b4f55",
   "metadata": {},
   "outputs": [
    {
     "data": {
      "text/plain": [
       "0      False\n",
       "1      False\n",
       "2      False\n",
       "3      False\n",
       "4      False\n",
       "       ...  \n",
       "339     True\n",
       "340    False\n",
       "341    False\n",
       "342     True\n",
       "343    False\n",
       "Name: body_mass_g, Length: 344, dtype: bool"
      ]
     },
     "execution_count": 15,
     "metadata": {},
     "output_type": "execute_result"
    }
   ],
   "source": [
    "bird['body_mass_g'] >= 4000"
   ]
  },
  {
   "cell_type": "code",
   "execution_count": 16,
   "id": "d266a2e5-3b18-444d-8656-7aa78c4ed759",
   "metadata": {},
   "outputs": [
    {
     "data": {
      "text/plain": [
       "0       True\n",
       "1       True\n",
       "2       True\n",
       "3       True\n",
       "4       True\n",
       "       ...  \n",
       "339    False\n",
       "340    False\n",
       "341    False\n",
       "342    False\n",
       "343    False\n",
       "Name: species, Length: 344, dtype: bool"
      ]
     },
     "execution_count": 16,
     "metadata": {},
     "output_type": "execute_result"
    }
   ],
   "source": [
    "bird['species'] == 'Adelie'"
   ]
  },
  {
   "cell_type": "code",
   "execution_count": 17,
   "id": "fdfddb02-4897-45b4-8dd9-31a8731b7f97",
   "metadata": {},
   "outputs": [
    {
     "data": {
      "text/plain": [
       "[0      False\n",
       " 1      False\n",
       " 2      False\n",
       " 3      False\n",
       " 4      False\n",
       "        ...  \n",
       " 339    False\n",
       " 340    False\n",
       " 341    False\n",
       " 342    False\n",
       " 343    False\n",
       " Length: 344, dtype: bool]"
      ]
     },
     "execution_count": 17,
     "metadata": {},
     "output_type": "execute_result"
    }
   ],
   "source": [
    "[(bird['body_mass_g']>=4000) & (bird['species']== 'Adelie')]"
   ]
  },
  {
   "cell_type": "markdown",
   "id": "05c37040-2427-4cbb-9ba8-40ea865b9908",
   "metadata": {},
   "source": [
    "<h1>Cleaning The Data Frame</h1>"
   ]
  },
  {
   "cell_type": "code",
   "execution_count": 18,
   "id": "c5cb71d7-99e2-4686-913c-f80572303e46",
   "metadata": {},
   "outputs": [
    {
     "data": {
      "text/plain": [
       "species               0\n",
       "island                0\n",
       "bill_length_mm        2\n",
       "bill_depth_mm         2\n",
       "flipper_length_mm     2\n",
       "body_mass_g           2\n",
       "sex                  11\n",
       "year                  0\n",
       "dtype: int64"
      ]
     },
     "execution_count": 18,
     "metadata": {},
     "output_type": "execute_result"
    }
   ],
   "source": [
    "bird.isnull().sum()"
   ]
  },
  {
   "cell_type": "markdown",
   "id": "9d90041c-93c5-4813-bf0f-bbef6fdb1716",
   "metadata": {},
   "source": [
    "<h1>What to do with all the NULL VALUES? </h1>"
   ]
  },
  {
   "cell_type": "code",
   "execution_count": 19,
   "id": "0b9b965f-bdc7-44e5-9c25-38a8e741187a",
   "metadata": {},
   "outputs": [
    {
     "data": {
      "text/plain": [
       "np.float64(43.9219298245614)"
      ]
     },
     "execution_count": 19,
     "metadata": {},
     "output_type": "execute_result"
    }
   ],
   "source": [
    "bird['bill_length_mm'].mean()"
   ]
  },
  {
   "cell_type": "code",
   "execution_count": 20,
   "id": "5c424112-a503-4bcc-abd9-e23ae5d509e8",
   "metadata": {},
   "outputs": [
    {
     "data": {
      "text/plain": [
       "0    male\n",
       "Name: sex, dtype: object"
      ]
     },
     "execution_count": 20,
     "metadata": {},
     "output_type": "execute_result"
    }
   ],
   "source": [
    "bird['sex'].mode()"
   ]
  },
  {
   "cell_type": "markdown",
   "id": "e7308205-605b-43ae-9941-8c19d0d84cef",
   "metadata": {},
   "source": [
    "<h1>HOW TO FILLUP NULL VALUES</h1>"
   ]
  },
  {
   "cell_type": "code",
   "execution_count": 21,
   "id": "213fe623-ea9d-438f-9680-a79761a77941",
   "metadata": {},
   "outputs": [],
   "source": [
    "bird['bill_length_mm']=bird['bill_length_mm'].fillna(bird['bill_length_mm'].mean())"
   ]
  },
  {
   "cell_type": "code",
   "execution_count": 22,
   "id": "887de13e-aa45-454a-8f70-e5e7f4f78f3a",
   "metadata": {},
   "outputs": [
    {
     "data": {
      "text/plain": [
       "species               0\n",
       "island                0\n",
       "bill_length_mm        0\n",
       "bill_depth_mm         2\n",
       "flipper_length_mm     2\n",
       "body_mass_g           2\n",
       "sex                  11\n",
       "year                  0\n",
       "dtype: int64"
      ]
     },
     "execution_count": 22,
     "metadata": {},
     "output_type": "execute_result"
    }
   ],
   "source": [
    "bird.isnull().sum()"
   ]
  },
  {
   "cell_type": "code",
   "execution_count": 23,
   "id": "2d032369-f093-40df-8965-bcc5a8fbdb8e",
   "metadata": {},
   "outputs": [],
   "source": [
    "bird['sex']=bird['sex'].fillna(bird['sex'].mode()[0])"
   ]
  },
  {
   "cell_type": "code",
   "execution_count": 24,
   "id": "191b19da-9105-4200-a6a5-68e93c6c6d06",
   "metadata": {},
   "outputs": [
    {
     "data": {
      "text/plain": [
       "species              0\n",
       "island               0\n",
       "bill_length_mm       0\n",
       "bill_depth_mm        2\n",
       "flipper_length_mm    2\n",
       "body_mass_g          2\n",
       "sex                  0\n",
       "year                 0\n",
       "dtype: int64"
      ]
     },
     "execution_count": 24,
     "metadata": {},
     "output_type": "execute_result"
    }
   ],
   "source": [
    "bird.isnull().sum()"
   ]
  },
  {
   "cell_type": "code",
   "execution_count": 25,
   "id": "055ad25a-1810-451b-8cc5-7875b3fb996d",
   "metadata": {},
   "outputs": [],
   "source": [
    "bird['bill_length_mm']=bird['bill_length_mm'].fillna(bird['bill_length_mm'].mean())\n",
    "bird['bill_depth_mm']=bird['bill_depth_mm'].fillna(bird['bill_depth_mm'].mean())\n",
    "bird['flipper_length_mm']=bird['flipper_length_mm'].fillna(bird['flipper_length_mm'].mean())\n",
    "bird['body_mass_g']=bird['bill_length_mm'].fillna(bird['bill_length_mm'].mean())"
   ]
  },
  {
   "cell_type": "code",
   "execution_count": 26,
   "id": "1784f05f-e6ff-4d74-a216-b1de51961691",
   "metadata": {},
   "outputs": [
    {
     "data": {
      "text/plain": [
       "species              0\n",
       "island               0\n",
       "bill_length_mm       0\n",
       "bill_depth_mm        0\n",
       "flipper_length_mm    0\n",
       "body_mass_g          0\n",
       "sex                  0\n",
       "year                 0\n",
       "dtype: int64"
      ]
     },
     "execution_count": 26,
     "metadata": {},
     "output_type": "execute_result"
    }
   ],
   "source": [
    "bird.isnull().sum()"
   ]
  },
  {
   "cell_type": "markdown",
   "id": "0b0e1f24-08eb-47ac-b106-a83ccdf92cab",
   "metadata": {},
   "source": [
    "<h1>DATA TYPES</h1>"
   ]
  },
  {
   "cell_type": "code",
   "execution_count": 27,
   "id": "d0e48553-334e-4043-a243-cd5b448b2ad0",
   "metadata": {},
   "outputs": [
    {
     "name": "stdout",
     "output_type": "stream",
     "text": [
      "<class 'pandas.core.frame.DataFrame'>\n",
      "RangeIndex: 344 entries, 0 to 343\n",
      "Data columns (total 8 columns):\n",
      " #   Column             Non-Null Count  Dtype  \n",
      "---  ------             --------------  -----  \n",
      " 0   species            344 non-null    object \n",
      " 1   island             344 non-null    object \n",
      " 2   bill_length_mm     344 non-null    float64\n",
      " 3   bill_depth_mm      344 non-null    float64\n",
      " 4   flipper_length_mm  344 non-null    float64\n",
      " 5   body_mass_g        344 non-null    float64\n",
      " 6   sex                344 non-null    object \n",
      " 7   year               344 non-null    int64  \n",
      "dtypes: float64(4), int64(1), object(3)\n",
      "memory usage: 21.6+ KB\n"
     ]
    }
   ],
   "source": [
    "bird.info()"
   ]
  },
  {
   "cell_type": "markdown",
   "id": "8817c94d-6530-4659-a08a-ba741fb62d6f",
   "metadata": {},
   "source": [
    "<h1>Changing data types</h1>"
   ]
  },
  {
   "cell_type": "code",
   "execution_count": 28,
   "id": "08f0acc5-73c0-4303-9af7-c833c7ebc508",
   "metadata": {},
   "outputs": [],
   "source": [
    "bird['species']=bird['species'].astype('category')\n",
    "bird['year']=bird['year'].astype('category')"
   ]
  },
  {
   "cell_type": "code",
   "execution_count": 29,
   "id": "07e3bfbd-afed-4e04-8a19-196f6cd1c26f",
   "metadata": {},
   "outputs": [
    {
     "name": "stdout",
     "output_type": "stream",
     "text": [
      "<class 'pandas.core.frame.DataFrame'>\n",
      "RangeIndex: 344 entries, 0 to 343\n",
      "Data columns (total 8 columns):\n",
      " #   Column             Non-Null Count  Dtype   \n",
      "---  ------             --------------  -----   \n",
      " 0   species            344 non-null    category\n",
      " 1   island             344 non-null    object  \n",
      " 2   bill_length_mm     344 non-null    float64 \n",
      " 3   bill_depth_mm      344 non-null    float64 \n",
      " 4   flipper_length_mm  344 non-null    float64 \n",
      " 5   body_mass_g        344 non-null    float64 \n",
      " 6   sex                344 non-null    object  \n",
      " 7   year               344 non-null    category\n",
      "dtypes: category(2), float64(4), object(2)\n",
      "memory usage: 17.2+ KB\n"
     ]
    }
   ],
   "source": [
    "bird.info()"
   ]
  },
  {
   "cell_type": "markdown",
   "id": "e061230d-136e-4076-876f-05c61322cef7",
   "metadata": {},
   "source": [
    "<h1>Explanatory Data Analysis(EDA)</h1>"
   ]
  },
  {
   "cell_type": "raw",
   "id": "07eff06d-5f32-454f-a66b-6fa81be762b1",
   "metadata": {},
   "source": [
    "SINO PO SPECIES ANG PINAKA MABIGAT?\n",
    "SAN PO NG ISLAND NORMALLY NAKATIRA ANG MABIGAT ANG SPECIES?"
   ]
  },
  {
   "cell_type": "code",
   "execution_count": 30,
   "id": "9c8b8051-f34f-4bf2-bf60-f931559f99b4",
   "metadata": {},
   "outputs": [
    {
     "data": {
      "text/plain": [
       "np.float64(43.92192982456141)"
      ]
     },
     "execution_count": 30,
     "metadata": {},
     "output_type": "execute_result"
    }
   ],
   "source": [
    "bird['body_mass_g'].mean()"
   ]
  },
  {
   "cell_type": "code",
   "execution_count": 31,
   "id": "4c50e7f4-d484-4aea-bc31-c722a87b2e29",
   "metadata": {},
   "outputs": [],
   "source": [
    "adelie_df=bird[bird['species']==\"Adelie\"]"
   ]
  },
  {
   "cell_type": "code",
   "execution_count": 32,
   "id": "ad8ea4d2-6451-4185-a775-c6fe1a6eb1d4",
   "metadata": {},
   "outputs": [
    {
     "data": {
      "text/plain": [
       "np.float64(38.82514427516159)"
      ]
     },
     "execution_count": 32,
     "metadata": {},
     "output_type": "execute_result"
    }
   ],
   "source": [
    "adelie_df['body_mass_g'].mean()"
   ]
  },
  {
   "cell_type": "code",
   "execution_count": 33,
   "id": "3ec95f46-8df6-4c02-a1bd-0d72d5b35a5a",
   "metadata": {},
   "outputs": [
    {
     "data": {
      "text/plain": [
       "np.float64(38.82514427516159)"
      ]
     },
     "execution_count": 33,
     "metadata": {},
     "output_type": "execute_result"
    }
   ],
   "source": [
    "bird[bird['species']==\"Adelie\"]['body_mass_g'].mean()"
   ]
  },
  {
   "cell_type": "markdown",
   "id": "9fed6f82-3302-469e-b259-a16f05c47c85",
   "metadata": {},
   "source": [
    "<h1>10 QUESTIONS</h1>"
   ]
  },
  {
   "cell_type": "raw",
   "id": "7d776236-3411-4a57-9a37-6b05c9673b33",
   "metadata": {},
   "source": [
    "1.How many Adelie penguins are there in the dataset?\n",
    "2.Which island has the most penguins recorded?\n",
    "3.What is the average bill length of Gentoo penguins?\n",
    "4.Which species has the longest average flipper length?\n",
    "5.How many penguins are male versus female?\n",
    "6.What is the heaviest penguins body mass?\n",
    "7.What is the average body mass of chinstrap penguins on Dream island?\n",
    "9.Which species has the shortest average bill depth\n",
    "10.How many penguins have missing date for bill length"
   ]
  },
  {
   "cell_type": "markdown",
   "id": "ae59c587-46a1-4bce-8ff6-caa2719202d6",
   "metadata": {},
   "source": [
    "<h1>1. How many Adelie penguins are there in the dataset?</h1>"
   ]
  },
  {
   "cell_type": "code",
   "execution_count": 44,
   "id": "a41a08cd-e28c-43d4-9811-9f1118e637f6",
   "metadata": {},
   "outputs": [
    {
     "data": {
      "text/plain": [
       "np.int64(152)"
      ]
     },
     "execution_count": 44,
     "metadata": {},
     "output_type": "execute_result"
    }
   ],
   "source": [
    "adelie_count = bird[bird[\"species\"] == \"Adelie\"][\"species\"].count()\n",
    "adelie_count"
   ]
  },
  {
   "cell_type": "markdown",
   "id": "ff85bc16-5d31-4747-b883-eab526c92813",
   "metadata": {},
   "source": [
    "<h3>Insight: Adelie penguins are the most commonly studied group, and this shows how many were recorded.</h3>\n",
    "<hr>"
   ]
  },
  {
   "cell_type": "markdown",
   "id": "2cfb89e6-ce0d-4c1e-ba8b-e4a959bef858",
   "metadata": {},
   "source": [
    "<h1>2. Which island has the most penguins recorded?</h1>"
   ]
  },
  {
   "cell_type": "code",
   "execution_count": 45,
   "id": "9823eacb-d48a-4176-b29a-d0a95d7c9335",
   "metadata": {},
   "outputs": [
    {
     "data": {
      "text/plain": [
       "island\n",
       "Biscoe    168\n",
       "Name: species, dtype: int64"
      ]
     },
     "execution_count": 45,
     "metadata": {},
     "output_type": "execute_result"
    }
   ],
   "source": [
    "island_counts = bird.groupby(\"island\")[\"species\"].count()\n",
    "max_island = island_counts[island_counts == island_counts.max()]\n",
    "max_island"
   ]
  },
  {
   "cell_type": "markdown",
   "id": "942e4ab1-afd1-4bbd-aadf-80064c311970",
   "metadata": {},
   "source": [
    "<h3>Insight: This island has the largest penguin population in the dataset, showing it as a key habitat.</h3>\n",
    "<hr>"
   ]
  },
  {
   "cell_type": "markdown",
   "id": "3af36b2e-7712-4be0-bbd9-b47f0277b23f",
   "metadata": {},
   "source": [
    " <h1>3. What is the average bill length of Gentoo penguins?</h1>"
   ]
  },
  {
   "cell_type": "code",
   "execution_count": 47,
   "id": "1fb0939b-616d-44e0-b7ae-0a7b94b7fae5",
   "metadata": {},
   "outputs": [
    {
     "data": {
      "text/plain": [
       "np.float64(47.475983305036785)"
      ]
     },
     "execution_count": 47,
     "metadata": {},
     "output_type": "execute_result"
    }
   ],
   "source": [
    "gentoo_avg_bill = bird[bird[\"species\"] == \"Gentoo\"][\"bill_length_mm\"].mean()\n",
    "gentoo_avg_bill"
   ]
  },
  {
   "cell_type": "markdown",
   "id": "4b3caf25-05ef-401a-a5d5-728b718d1226",
   "metadata": {},
   "source": [
    "<h3>Insight: Gentoo penguins tend to have longer bills, which help them adapt to their diet and environment.</h3>\n",
    "<hr>"
   ]
  },
  {
   "cell_type": "markdown",
   "id": "65549e5d-c944-4ef0-bbdc-c6c58f2e2fca",
   "metadata": {},
   "source": [
    "<h1>4. Which species has the longest average flipper length?</h1>"
   ]
  },
  {
   "cell_type": "code",
   "execution_count": 50,
   "id": "9cf24891-fe79-4167-8b80-be64d7eb796d",
   "metadata": {},
   "outputs": [
    {
     "name": "stderr",
     "output_type": "stream",
     "text": [
      "C:\\Users\\Kenzo\\AppData\\Local\\Temp\\ipykernel_13860\\4159575714.py:1: FutureWarning: The default of observed=False is deprecated and will be changed to True in a future version of pandas. Pass observed=False to retain current behavior or observed=True to adopt the future default and silence this warning.\n",
      "  avg_flipper_species = bird.groupby(\"species\")[\"flipper_length_mm\"].mean()\n"
     ]
    },
    {
     "data": {
      "text/plain": [
       "species\n",
       "Gentoo    217.055768\n",
       "Name: flipper_length_mm, dtype: float64"
      ]
     },
     "execution_count": 50,
     "metadata": {},
     "output_type": "execute_result"
    }
   ],
   "source": [
    "avg_flipper_species = bird.groupby(\"species\")[\"flipper_length_mm\"].mean()\n",
    "max_flipper_species = avg_flipper_species[avg_flipper_species == avg_flipper_species.max()]\n",
    "max_flipper_species"
   ]
  },
  {
   "cell_type": "markdown",
   "id": "003c3863-2e7a-45c5-a5a5-aa32d1533c44",
   "metadata": {},
   "source": [
    "<h3>Insight: Longer flippers suggest stronger swimming ability, which is useful for Gentoo penguins in deep waters.</h3>\n",
    "<hr>"
   ]
  },
  {
   "cell_type": "markdown",
   "id": "2323b193-e764-4d5d-824b-4ab332e469a9",
   "metadata": {},
   "source": [
    "<h1>5. How many penguins are male versus female?</h1>"
   ]
  },
  {
   "cell_type": "code",
   "execution_count": 51,
   "id": "eec471db-ee97-4819-9518-7a5bdfe7c7fc",
   "metadata": {},
   "outputs": [
    {
     "data": {
      "text/plain": [
       "sex\n",
       "female    165\n",
       "male      179\n",
       "Name: species, dtype: int64"
      ]
     },
     "execution_count": 51,
     "metadata": {},
     "output_type": "execute_result"
    }
   ],
   "source": [
    "sex_counts = bird.groupby(\"sex\")[\"species\"].count()\n",
    "sex_counts"
   ]
  },
  {
   "cell_type": "markdown",
   "id": "b66f6bb5-ba57-4867-8271-3fa1a3bfcff1",
   "metadata": {},
   "source": [
    "<h3>Insight: The balance of males and females shows the dataset is well-distributed for gender comparison.</h3>\n",
    "<hr>"
   ]
  },
  {
   "cell_type": "markdown",
   "id": "e67e95c0-f77f-442f-8f48-2fa01f26b103",
   "metadata": {},
   "source": [
    "<h1>6. What is the heaviest penguin's body mass?</h1>"
   ]
  },
  {
   "cell_type": "code",
   "execution_count": 52,
   "id": "2e1bdebb-dd7e-4f25-b2ed-98c31273e145",
   "metadata": {},
   "outputs": [
    {
     "data": {
      "text/plain": [
       "np.float64(59.6)"
      ]
     },
     "execution_count": 52,
     "metadata": {},
     "output_type": "execute_result"
    }
   ],
   "source": [
    "max_weight = bird[\"body_mass_g\"].max()\n",
    "max_weight"
   ]
  },
  {
   "cell_type": "markdown",
   "id": "35e06acd-b2c2-40e5-8bc9-3ce23a5a838a",
   "metadata": {},
   "source": [
    "<h3>Insight: The heaviest penguin gives us an idea of the upper size limit observed in the species.</h3>\n",
    "<hr>"
   ]
  },
  {
   "cell_type": "markdown",
   "id": "fcf79145-de56-401e-9374-b24a1ad1bc91",
   "metadata": {},
   "source": [
    "<h1>7. What is the average body mass of Chinstrap penguins on Dream island?</h1>"
   ]
  },
  {
   "cell_type": "code",
   "execution_count": 55,
   "id": "21c34270-1908-455f-ad2f-483d9ead65e2",
   "metadata": {},
   "outputs": [
    {
     "data": {
      "text/plain": [
       "np.float64(48.83382352941177)"
      ]
     },
     "execution_count": 55,
     "metadata": {},
     "output_type": "execute_result"
    }
   ],
   "source": [
    "chinstrap_dream_avg = bird[(bird[\"species\"] == \"Chinstrap\") & (bird[\"island\"] == \"Dream\")][\"body_mass_g\"].mean()\n",
    "chinstrap_dream_avg"
   ]
  },
  {
   "cell_type": "markdown",
   "id": "8b914726-c705-4dcd-9391-aaf5e1615762",
   "metadata": {},
   "source": [
    "<h3>Insight: This shows how Chinstrap penguins on Dream island compare in size to other species and locations.</h3>\n",
    "<hr>"
   ]
  },
  {
   "cell_type": "markdown",
   "id": "e8d15340-87f0-40b3-9676-1c1c817699ba",
   "metadata": {},
   "source": [
    "<h1>8. Which species has the shortest average bill depth?</h1>"
   ]
  },
  {
   "cell_type": "code",
   "execution_count": 56,
   "id": "93c7a18d-7504-4c00-a6dd-9a17188eeede",
   "metadata": {},
   "outputs": [
    {
     "name": "stderr",
     "output_type": "stream",
     "text": [
      "C:\\Users\\Kenzo\\AppData\\Local\\Temp\\ipykernel_13860\\749601762.py:1: FutureWarning: The default of observed=False is deprecated and will be changed to True in a future version of pandas. Pass observed=False to retain current behavior or observed=True to adopt the future default and silence this warning.\n",
      "  avg_depth_species = bird.groupby(\"species\")[\"bill_depth_mm\"].mean()\n"
     ]
    },
    {
     "data": {
      "text/plain": [
       "species\n",
       "Gentoo    14.999606\n",
       "Name: bill_depth_mm, dtype: float64"
      ]
     },
     "execution_count": 56,
     "metadata": {},
     "output_type": "execute_result"
    }
   ],
   "source": [
    "avg_depth_species = bird.groupby(\"species\")[\"bill_depth_mm\"].mean()\n",
    "min_depth_species = avg_depth_species[avg_depth_species == avg_depth_species.min()]\n",
    "min_depth_species"
   ]
  },
  {
   "cell_type": "markdown",
   "id": "6025853d-44c5-4112-a79a-0c5091f9ba34",
   "metadata": {},
   "source": [
    "<h3>Insight: A shorter bill depth may be linked to different feeding habits compared to other species.</h3>\n",
    "<hr>"
   ]
  },
  {
   "cell_type": "markdown",
   "id": "065a7c84-933e-4c34-8e0b-992562018541",
   "metadata": {},
   "source": [
    "<h1>9. How many penguins have missing data for bill length?</h1>"
   ]
  },
  {
   "cell_type": "code",
   "execution_count": 57,
   "id": "4722f988-4e7a-4de0-abd3-bb68b03f7f4f",
   "metadata": {},
   "outputs": [
    {
     "data": {
      "text/plain": [
       "np.int64(0)"
      ]
     },
     "execution_count": 57,
     "metadata": {},
     "output_type": "execute_result"
    }
   ],
   "source": [
    "missing_bill = bird[\"bill_length_mm\"].isna().sum()\n",
    "missing_bill"
   ]
  },
  {
   "cell_type": "markdown",
   "id": "eaffb66e-ff3e-4266-9156-d67cf0a60d5d",
   "metadata": {},
   "source": [
    "<h3>Insight: Missing values highlight data collection gaps that should be considered in analysis.</h3>\n",
    "<hr>"
   ]
  },
  {
   "cell_type": "markdown",
   "id": "6a36f32b-10bf-44c6-89c5-4340715e5a49",
   "metadata": {},
   "source": [
    "<h1>10. Group by island and calculate mean body mass</h1>"
   ]
  },
  {
   "cell_type": "code",
   "execution_count": 58,
   "id": "e1bce9f4-5a19-4027-baef-e4c4725fd793",
   "metadata": {},
   "outputs": [
    {
     "data": {
      "text/plain": [
       "island\n",
       "Biscoe    45.249535\n",
       "Name: body_mass_g, dtype: float64"
      ]
     },
     "execution_count": 58,
     "metadata": {},
     "output_type": "execute_result"
    }
   ],
   "source": [
    "avg_weight_island = bird.groupby(\"island\", observed=True)[\"body_mass_g\"].mean()\n",
    "max_weight_island = avg_weight_island[avg_weight_island == avg_weight_island.max()]\n",
    "max_weight_island"
   ]
  },
  {
   "cell_type": "markdown",
   "id": "415ef32c-857a-4acc-864f-c9638535f0b9",
   "metadata": {},
   "source": [
    "<h3>Insight: This shows which island hosts the largest-bodied penguins on average.</h3>\n",
    "<hr>"
   ]
  },
  {
   "cell_type": "markdown",
   "id": "ed6984eb-4768-48d5-a540-2217e789cdc7",
   "metadata": {},
   "source": [
    "<h1>11. What year recorded the longest average bill length?</h1>"
   ]
  },
  {
   "cell_type": "code",
   "execution_count": 59,
   "id": "b598cc9d-331a-4180-ba04-ef1081e3b03e",
   "metadata": {},
   "outputs": [
    {
     "data": {
      "text/plain": [
       "year\n",
       "2009    44.448516\n",
       "Name: bill_length_mm, dtype: float64"
      ]
     },
     "execution_count": 59,
     "metadata": {},
     "output_type": "execute_result"
    }
   ],
   "source": [
    "avg_bill_year = bird.groupby(\"year\", observed=True)[\"bill_length_mm\"].mean()\n",
    "max_bill_year = avg_bill_year[avg_bill_year == avg_bill_year.max()]\n",
    "max_bill_year"
   ]
  },
  {
   "cell_type": "markdown",
   "id": "f81d8244-a45b-462e-a2c9-6cc1d50a078b",
   "metadata": {},
   "source": [
    "<h3>Insight: This helps identify if certain years had penguins with larger bills, which could suggest environmental influence.</h3>\n",
    "<hr>"
   ]
  },
  {
   "cell_type": "markdown",
   "id": "20b682ee-1336-4d16-b05f-8a9f457e8daf",
   "metadata": {},
   "source": [
    "<h1>12. Which species has the heaviest penguin on record?</h1>\n"
   ]
  },
  {
   "cell_type": "code",
   "execution_count": 60,
   "id": "c90a00b4-130a-404c-ba0e-456ce59f56d2",
   "metadata": {},
   "outputs": [
    {
     "data": {
      "text/plain": [
       "species\n",
       "Gentoo    59.6\n",
       "Name: body_mass_g, dtype: float64"
      ]
     },
     "execution_count": 60,
     "metadata": {},
     "output_type": "execute_result"
    }
   ],
   "source": [
    "max_weight_species = bird.groupby(\"species\", observed=True)[\"body_mass_g\"].max()\n",
    "heaviest_species = max_weight_species[max_weight_species == max_weight_species.max()]\n",
    "heaviest_species"
   ]
  },
  {
   "cell_type": "markdown",
   "id": "a30329e7-1327-4695-aedf-79976261f0c6",
   "metadata": {},
   "source": [
    "<h3>Insight: This highlights which species reaches the highest individual body mass across the dataset.</h3>\n",
    "<hr>"
   ]
  },
  {
   "cell_type": "code",
   "execution_count": null,
   "id": "9c3fccc7-614a-444d-9d40-b10d8977cb14",
   "metadata": {},
   "outputs": [],
   "source": []
  }
 ],
 "metadata": {
  "kernelspec": {
   "display_name": "Python 3 (ipykernel)",
   "language": "python",
   "name": "python3"
  },
  "language_info": {
   "codemirror_mode": {
    "name": "ipython",
    "version": 3
   },
   "file_extension": ".py",
   "mimetype": "text/x-python",
   "name": "python",
   "nbconvert_exporter": "python",
   "pygments_lexer": "ipython3",
   "version": "3.12.10"
  }
 },
 "nbformat": 4,
 "nbformat_minor": 5
}
